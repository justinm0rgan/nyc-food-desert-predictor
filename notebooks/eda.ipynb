version https://git-lfs.github.com/spec/v1
oid sha256:0102cc35576ef758d7e6f92ce7a27249c6e6f6d660cd09090c580ab3b1b0f65b
size 33494703
