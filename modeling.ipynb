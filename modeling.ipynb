version https://git-lfs.github.com/spec/v1
oid sha256:d837f27f0b2919fdbc75bebf37928edc618fb57a0cc34389b5a889f5bbc5d57a
size 300549
